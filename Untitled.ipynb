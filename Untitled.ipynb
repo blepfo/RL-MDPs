{
 "cells": [
  {
   "cell_type": "code",
   "execution_count": 2,
   "metadata": {},
   "outputs": [
    {
     "name": "stdout",
     "output_type": "stream",
     "text": [
      "[[6 7 3 ... 1 3 9]\n",
      " [7 2 6 ... 6 8 4]\n",
      " [8 2 8 ... 5 3 6]\n",
      " ...\n",
      " [2 7 2 ... 7 8 2]\n",
      " [5 9 7 ... 3 1 2]\n",
      " [6 3 3 ... 8 5 7]]\n"
     ]
    }
   ],
   "source": [
    "\"\"\"Generate Sample Trajectories\"\"\"\n",
    "\n",
    "import numpy as np\n",
    "\n",
    "import flmdp\n",
    "import policy_approximators\n",
    "\n",
    "from importlib import reload\n",
    "reload(flmdp)\n",
    "reload(policy_approximators)\n",
    "\n",
    "from flmdp import FLMDP\n",
    "\n",
    "# L-MDP params\n",
    "mag_S = 9\n",
    "mag_A = 4\n",
    "l = 4\n",
    "\n",
    "# Deterministic initial state distribution\n",
    "P0 = np.zeros((mag_S))\n",
    "P0[0] = 1.0\n",
    "\n",
    "P = FLMDP.random_P(mag_S=mag_S,\n",
    "                  mag_A=mag_A,\n",
    "                  l=l)\n",
    "\n",
    "lmdp = FLMDP(mag_S=mag_S,\n",
    "             mag_A=mag_A,\n",
    "             P=P,\n",
    "             P0=P0,\n",
    "             l=l)\n",
    "\n",
    "# Trajectory Params\n",
    "T = 20\n",
    "m = 100\n",
    "Gamma = 0.9\n",
    "\n",
    "pi_b = FLMDP.scips_approximable_pi(lmdp=lmdp,\n",
    "                                   Gamma=Gamma,\n",
    "                                   sigma=1)\n",
    "\n",
    "pi_e = FLMDP.random_pi(lmdp=lmdp)\n",
    "\n",
    "s_b, a_b, r_b = lmdp.simulate(pi=pi_b,\n",
    "                              T=T, \n",
    "                              m=m)\n",
    "s_e, a_e, r_e = lmdp.simulate(pi=pi_e,\n",
    "                              T=T, \n",
    "                              m=m)\n",
    "\n",
    "print(s_b)"
   ]
  },
  {
   "cell_type": "code",
   "execution_count": 4,
   "metadata": {},
   "outputs": [],
   "source": [
    "\"\"\"Create Policy Estimators\"\"\"\n",
    "\n",
    "from policy_approximators import naive_approx\n",
    "from policy_approximators import sparsity_corrected_approx\n",
    "\n",
    "# Naive Monte-Carlo Policy Estimator\n",
    "hat_b = naive_approx(states=s_b,\n",
    "                     actions=a_b,\n",
    "                     rewards=r_b,\n",
    "                     l=l)\n",
    "\n",
    "# Sparsity Corrected Policy Estimator\n",
    "tilde_b = sparsity_corrected_approx(states=s_b,\n",
    "                                    actions=a_b,\n",
    "                                    rewards=r_b,\n",
    "                                    Gamma=Gamma,\n",
    "                                    lmdp=lmdp)"
   ]
  },
  {
   "cell_type": "code",
   "execution_count": 5,
   "metadata": {
    "scrolled": true
   },
   "outputs": [
    {
     "name": "stdout",
     "output_type": "stream",
     "text": [
      "-8.19407480947408\n",
      "-0.11821532170468162\n",
      "0.0\n"
     ]
    }
   ],
   "source": [
    "\"\"\"Evaluate Policy Estimators\"\"\"\n",
    "\n",
    "import step_is as step_is_module\n",
    "from importlib import reload\n",
    "reload(step_is_module)\n",
    "\n",
    "step_is = step_is_module.step_is\n",
    "\n",
    "gamma = 0.9\n",
    "\n",
    "rho_pi = step_is(pi_b=pi_b, \n",
    "                 pi_e=pi_e,\n",
    "                 state_samples=s_b,\n",
    "                 action_samples=a_b,\n",
    "                 reward_samples=r_b,\n",
    "                 l=l,\n",
    "                 gamma=gamma)\n",
    "\n",
    "rho_hat = step_is(pi_b=hat_b,\n",
    "                  pi_e=pi_e,\n",
    "                  state_samples=s_b,\n",
    "                  action_samples=a_b,\n",
    "                  reward_samples=r_b,\n",
    "                  l=l,\n",
    "                  gamma=gamma)\n",
    "\n",
    "rho_tilde = step_is(pi_b=tilde_b,\n",
    "                    pi_e=pi_e,\n",
    "                    state_samples=s_b,\n",
    "                    action_samples=a_b,\n",
    "                    reward_samples=r_b,\n",
    "                    l=l,\n",
    "                    gamma=gamma)    \n",
    "\n",
    "print(rho_pi)\n",
    "print(rho_hat)\n",
    "print(rho_tilde)"
   ]
  }
 ],
 "metadata": {
  "kernelspec": {
   "display_name": "Python 3",
   "language": "python",
   "name": "python3"
  },
  "language_info": {
   "codemirror_mode": {
    "name": "ipython",
    "version": 3
   },
   "file_extension": ".py",
   "mimetype": "text/x-python",
   "name": "python",
   "nbconvert_exporter": "python",
   "pygments_lexer": "ipython3",
   "version": "3.6.5"
  }
 },
 "nbformat": 4,
 "nbformat_minor": 2
}
